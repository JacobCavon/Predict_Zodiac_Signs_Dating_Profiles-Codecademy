{
 "cells": [
  {
   "cell_type": "markdown",
   "metadata": {},
   "source": [
    "# Date-a-Scientist Machine Learning Project: Predicting Users' Zodiac Sign Based on Dating Profile Data?\n",
    "\n",
    "Many dating app users like to know other users' sun/zodiac signs. However, unfortunately many users fail to fill in this piece of their profile. Therefore, I will attempt to build a machine learning classifier that will predict a user's sun sign based on other pieces of data from their dating app profile.\n",
    "\n",
    "### Objectives:\n",
    "1. Examine, clean, and process data for use in machine learning model.\n",
    "2. Familiarize myself with and practice using SciKit Learn's machine learning modules.\n",
    "3. Use classifiers such as Decision Tree and Random Forest to predict zodiac sign from various categorical variables.\n",
    "3. Use Naive Bayes Classifier and Natural Language Processing (NLP) to predict zodiac sign based on user profile essays."
   ]
  },
  {
   "cell_type": "code",
   "execution_count": 117,
   "metadata": {},
   "outputs": [],
   "source": [
    "import numpy as np\n",
    "import pandas as pd\n",
    "import seaborn as sns\n",
    "from matplotlib import pyplot as plt\n",
    "from sklearn.ensemble import RandomForestClassifier\n",
    "from sklearn.tree import DecisionTreeClassifier\n",
    "from sklearn.model_selection import train_test_split\n",
    "from sklearn.feature_selection import SelectKBest, chi2\n",
    "from sklearn.preprocessing import LabelEncoder, OrdinalEncoder\n",
    "from sklearn.metrics import confusion_matrix, classification_report\n",
    "from bs4 import BeautifulSoup"
   ]
  },
  {
   "cell_type": "code",
   "execution_count": 118,
   "metadata": {},
   "outputs": [
    {
     "name": "stdout",
     "output_type": "stream",
     "text": [
      "<class 'pandas.core.frame.DataFrame'>\n",
      "RangeIndex: 59946 entries, 0 to 59945\n",
      "Data columns (total 34 columns):\n",
      " #   Column            Non-Null Count  Dtype  \n",
      "---  ------            --------------  -----  \n",
      " 0   age               59946 non-null  int64  \n",
      " 1   body_type         54650 non-null  object \n",
      " 2   diet              35551 non-null  object \n",
      " 3   drinks            56961 non-null  object \n",
      " 4   drugs             45866 non-null  object \n",
      " 5   education         53318 non-null  object \n",
      " 6   essay0            54458 non-null  object \n",
      " 7   essay1            52374 non-null  object \n",
      " 8   essay2            50308 non-null  object \n",
      " 9   essay3            48470 non-null  object \n",
      " 10  essay4            49409 non-null  object \n",
      " 11  essay5            49096 non-null  object \n",
      " 12  essay6            46175 non-null  object \n",
      " 13  essay7            47495 non-null  object \n",
      " 14  essay8            40721 non-null  object \n",
      " 15  essay9            47343 non-null  object \n",
      " 16  ethnicity         54266 non-null  object \n",
      " 17  height            59943 non-null  float64\n",
      " 18  income            59946 non-null  int64  \n",
      " 19  job               51748 non-null  object \n",
      " 20  last_online       59946 non-null  object \n",
      " 21  location          59946 non-null  object \n",
      " 22  offspring         24385 non-null  object \n",
      " 23  orientation       59946 non-null  object \n",
      " 24  pets              40025 non-null  object \n",
      " 25  religion          39720 non-null  object \n",
      " 26  sex               59946 non-null  object \n",
      " 27  sign              48890 non-null  object \n",
      " 28  smokes            54434 non-null  object \n",
      " 29  speaks            59896 non-null  object \n",
      " 30  status            59946 non-null  object \n",
      " 31  sign_cleaned      48890 non-null  object \n",
      " 32  religion_cleaned  39720 non-null  object \n",
      " 33  elements          48890 non-null  object \n",
      "dtypes: float64(1), int64(2), object(31)\n",
      "memory usage: 15.6+ MB\n",
      "None\n",
      "age                 0.000000\n",
      "body_type           0.088346\n",
      "diet                0.406950\n",
      "drinks              0.049795\n",
      "drugs               0.234878\n",
      "education           0.110566\n",
      "essay0              0.091549\n",
      "essay1              0.126314\n",
      "essay2              0.160778\n",
      "essay3              0.191439\n",
      "essay4              0.175775\n",
      "essay5              0.180996\n",
      "essay6              0.229723\n",
      "essay7              0.207704\n",
      "essay8              0.320705\n",
      "essay9              0.210239\n",
      "ethnicity           0.094752\n",
      "height              0.000050\n",
      "income              0.000000\n",
      "job                 0.136756\n",
      "last_online         0.000000\n",
      "location            0.000000\n",
      "offspring           0.593217\n",
      "orientation         0.000000\n",
      "pets                0.332316\n",
      "religion            0.337404\n",
      "sex                 0.000000\n",
      "sign                0.184433\n",
      "smokes              0.091949\n",
      "speaks              0.000834\n",
      "status              0.000000\n",
      "sign_cleaned        0.184433\n",
      "religion_cleaned    0.337404\n",
      "elements            0.184433\n",
      "dtype: float64\n",
      "leo            0.089466\n",
      "gemini         0.088157\n",
      "libra          0.086050\n",
      "cancer         0.086030\n",
      "virgo          0.084700\n",
      "taurus         0.084680\n",
      "scorpio        0.084557\n",
      "aries          0.081591\n",
      "pisces         0.080712\n",
      "sagittarius    0.080630\n",
      "aquarius       0.080344\n",
      "capricorn      0.073082\n",
      "Name: sign_cleaned, dtype: float64\n"
     ]
    }
   ],
   "source": [
    "profiles = pd.read_csv('profiles.csv')\n",
    "profiles['sign_cleaned'] = profiles.sign.str.split(' ').str[0]\n",
    "profiles['religion_cleaned'] = profiles.religion.str.split(' ').str[0]\n",
    "profiles['elements'] = profiles.sign_cleaned.map({'leo': 'fire', 'sagittarius': 'fire', \n",
    "                                                  'aries': 'fire', 'taurus': 'earth',\n",
    "                                                  'virgo': 'earth', 'capricorn': 'earth', \n",
    "                                                  'pisces': 'water', 'scorpio': 'water',\n",
    "                                                  'cancer': 'water', 'libra': 'air', \n",
    "                                                  'aquarius': 'air', 'gemini': 'air'})\n",
    "\n",
    "print(profiles.info())\n",
    "print(profiles.isna().sum()/59946)\n",
    "print(profiles.sign_cleaned.value_counts(normalize=True))"
   ]
  },
  {
   "cell_type": "markdown",
   "metadata": {},
   "source": [
    "Some columns, for instance, religion and diet, are around 30%-40% missing values. However, the dataframe is quite large, with nearly 60,000 entries, therefore, I will simply drop missing value rows as needed depending on analysis/machine learning in the following cells.\n",
    "\n",
    "Additionally, I cleaned and simplified the strings of the \"religion\" and \"sign\" columns in preparation for analysis and machine learning."
   ]
  },
  {
   "cell_type": "markdown",
   "metadata": {},
   "source": [
    "# Building Random Forest and Decision Tree Classifiers"
   ]
  },
  {
   "cell_type": "code",
   "execution_count": 119,
   "metadata": {},
   "outputs": [
    {
     "name": "stderr",
     "output_type": "stream",
     "text": [
      "/Users/mac/opt/anaconda3/lib/python3.9/site-packages/sklearn/utils/validation.py:63: DataConversionWarning: A column-vector y was passed when a 1d array was expected. Please change the shape of y to (n_samples, ), for example using ravel().\n",
      "  return f(*args, **kwargs)\n"
     ]
    },
    {
     "name": "stdout",
     "output_type": "stream",
     "text": [
      "body_type p_value = 0.0014887883186500812\n",
      "diet p_value = 0.0011976121990489616\n",
      "drinks p_value = 0.9983924963770244\n",
      "drugs p_value = 0.14620576590166995\n",
      "education p_value = 0.007214314047871199\n",
      "job p_value = 3.4572769938834145e-05\n",
      "orientation p_value = 0.9999154452565686\n",
      "pets p_value = 0.8637019119662785\n",
      "religion_cleaned p_value = 0.06888109277597956\n",
      "sex p_value = 0.5570842356724738\n",
      "smokes p_value = 0.01860742035487315\n",
      "status p_value = 0.9999619291834014\n"
     ]
    }
   ],
   "source": [
    "profiles_dropped_NaN = profiles[['body_type', 'diet', 'drinks', 'drugs', 'education', \n",
    "                          'job', 'orientation', 'pets', 'religion_cleaned',\n",
    "                          'sex', 'smokes', 'status', 'sign_cleaned', 'elements']].dropna()\n",
    "\n",
    "features = profiles_dropped_NaN[['body_type', 'diet', 'drinks', 'drugs', 'education', \n",
    "                          'job', 'orientation', 'pets', 'religion_cleaned',\n",
    "                          'sex', 'smokes', 'status']]\n",
    "\n",
    "target = profiles_dropped_NaN[['sign_cleaned']]\n",
    "\n",
    "#Encode features and labels (aka target) using OrdinalEncoder and LabelEncoder\n",
    "oe = OrdinalEncoder()\n",
    "oe.fit(features)\n",
    "features_encoded = oe.transform(features)\n",
    "\n",
    "le = LabelEncoder()\n",
    "le.fit(target)\n",
    "target_encoded = le.transform(target)\n",
    "\n",
    "#SelectKBest function used to perform chi2 test of independency and select features associated with sun sign\n",
    "fs = SelectKBest(score_func=chi2, k='all')\n",
    "fs.fit(features_encoded, target_encoded)\n",
    "features_fs = fs.transform(features_encoded)\n",
    "\n",
    "selected_features = []\n",
    "for i in range(len(fs.pvalues_)):\n",
    "    print(features.columns[i] + \" p_value = \" + str(fs.pvalues_[i]))\n",
    "    if fs.pvalues_[i] < 0.05:\n",
    "        selected_features.append(i)\n",
    "\n",
    "#Select features with chi2 pvalue less than 0.05\n",
    "data = features.iloc[:, selected_features]\n",
    "\n",
    "#Encode selected features using binary encoding and create labels variable\n",
    "data = pd.get_dummies(data=data, columns=data.columns)\n",
    "labels = target\n",
    "\n",
    "#Randomly split data into training and testing groups\n",
    "X_train, X_test, y_train, y_test = train_test_split(data, labels, random_state=1)"
   ]
  },
  {
   "cell_type": "markdown",
   "metadata": {},
   "source": [
    "In order to identify features (columns) most likely to be successful to a machine learning classifier in predicting sun/zodiac sign, I performed a chi-square test of independence on a variety of categorical features (columns listed in chi_selection variable above) excluding the essay columns (perform NLP on essay columns later in this document).\n",
    "\n",
    "Columns subjected to chi2 analysis were selected based on proportion of available data (this is why \"offspring\" column was excluded, as nearly 60% of the data is missing) as well as the number of categories (ie \"speaks\", \"ethnicity\", \"location\", etc. were excluded due to the large number of different categories).\n",
    "\n",
    "Data was then split 80% training data and 20% testing data in preparation for building the classifier's below."
   ]
  },
  {
   "cell_type": "code",
   "execution_count": 120,
   "metadata": {},
   "outputs": [
    {
     "name": "stderr",
     "output_type": "stream",
     "text": [
      "/var/folders/wp/8ln6f3ln26l_mhwbv0nvg5440000gn/T/ipykernel_1156/934375540.py:2: DataConversionWarning: A column-vector y was passed when a 1d array was expected. Please change the shape of y to (n_samples,), for example using ravel().\n",
      "  random_forest.fit(X_train, y_train)\n"
     ]
    },
    {
     "name": "stdout",
     "output_type": "stream",
     "text": [
      "Random Forest Classifier accuracy = 0.08234540211470683\n",
      "Decision Tree Classifier accuracy = 0.08170458186478692\n",
      "Random Guess (ie, 1/12 since there are 12 zodiac signs) = 0.08333333333333333\n"
     ]
    }
   ],
   "source": [
    "random_forest = RandomForestClassifier()\n",
    "random_forest.fit(X_train, y_train)\n",
    "print(\"Random Forest Classifier accuracy = \" + str(random_forest.score(X_test, y_test)))\n",
    "\n",
    "tree = DecisionTreeClassifier()\n",
    "tree.fit(X_train, y_train)\n",
    "print(\"Decision Tree Classifier accuracy = \" + str(tree.score(X_test, y_test)))\n",
    "\n",
    "print(\"Random Guess (ie, 1/12 since there are 12 zodiac signs) = \" + str(1/12))"
   ]
  },
  {
   "cell_type": "markdown",
   "metadata": {},
   "source": [
    "The classifier performed extremely poorly - no better than random guessing. It appears this data is NOT sufficient to predict users' zodiac signs. Perhaps there isn't enough data to define 12 different categories such that accurate predictions can be made. If this is the case, perhaps if I categorize each of the 12 zodiac into their appropriate element the classifier will be able to predict a user's element. There are four elements and three zodiac in each element."
   ]
  },
  {
   "cell_type": "code",
   "execution_count": 121,
   "metadata": {},
   "outputs": [],
   "source": [
    "#element labels, signs have been categorized into their appropriate element - water, earth, fire, or air\n",
    "element_labels = profiles_dropped_NaN[['elements']]\n",
    "\n",
    "#Split data into training and testing sets\n",
    "X_train, X_test, y_train, y_test = train_test_split(data, element_labels, random_state=2)"
   ]
  },
  {
   "cell_type": "code",
   "execution_count": 122,
   "metadata": {},
   "outputs": [
    {
     "name": "stderr",
     "output_type": "stream",
     "text": [
      "/var/folders/wp/8ln6f3ln26l_mhwbv0nvg5440000gn/T/ipykernel_1156/2569292213.py:2: DataConversionWarning: A column-vector y was passed when a 1d array was expected. Please change the shape of y to (n_samples,), for example using ravel().\n",
      "  random_forest.fit(X_train, y_train)\n"
     ]
    },
    {
     "name": "stdout",
     "output_type": "stream",
     "text": [
      "Random Forest Classifier accuracy = 0.2531239987183595\n",
      "Decision Tree Classifier accuracy = 0.24959948734380005\n",
      "Random Guess (ie, 1/4 since there are 4 elements) = 0.25\n"
     ]
    }
   ],
   "source": [
    "random_forest = RandomForestClassifier()\n",
    "random_forest.fit(X_train, y_train)\n",
    "print(\"Random Forest Classifier accuracy = \" + str(random_forest.score(X_test, y_test)))\n",
    "\n",
    "tree = DecisionTreeClassifier()\n",
    "tree.fit(X_train, y_train)\n",
    "print(\"Decision Tree Classifier accuracy = \" + str(tree.score(X_test, y_test)))\n",
    "\n",
    "print(\"Random Guess (ie, 1/4 since there are 4 elements) = \" + str(1/4))"
   ]
  },
  {
   "cell_type": "markdown",
   "metadata": {},
   "source": [
    "Again, the classifiers did no better than random guessing even when the number of categories was reduced down to 4 from 12. It appears this data is insufficient to even predict users' element. Below is a confusion matrix and classification report, which includes precision, recall, and f1-score, for the random forest classifier above."
   ]
  },
  {
   "cell_type": "code",
   "execution_count": 123,
   "metadata": {},
   "outputs": [
    {
     "name": "stdout",
     "output_type": "stream",
     "text": [
      "[[194 191 198 186]\n",
      " [194 178 187 200]\n",
      " [193 186 203 203]\n",
      " [192 193 208 215]]\n",
      "              precision    recall  f1-score   support\n",
      "\n",
      "         air       0.25      0.25      0.25       769\n",
      "       earth       0.24      0.23      0.24       759\n",
      "        fire       0.26      0.26      0.26       785\n",
      "       water       0.27      0.27      0.27       808\n",
      "\n",
      "    accuracy                           0.25      3121\n",
      "   macro avg       0.25      0.25      0.25      3121\n",
      "weighted avg       0.25      0.25      0.25      3121\n",
      "\n"
     ]
    }
   ],
   "source": [
    "y_pred_test = random_forest.predict(X_test)\n",
    "print(confusion_matrix(y_test, y_pred_test))\n",
    "print(classification_report(y_test, y_pred_test))"
   ]
  },
  {
   "cell_type": "markdown",
   "metadata": {},
   "source": [
    "The confusion matrix reveals that the random forest model is not able to successfully predict ANY of the elements (numbers along the diagonal from top left to bottom right are correct classifications). Precision, recall, f1-score, and accuracy reflect the results of the confusion matrix."
   ]
  },
  {
   "cell_type": "markdown",
   "metadata": {},
   "source": [
    "# NLP and Building Naive Bayes Classifier"
   ]
  },
  {
   "cell_type": "code",
   "execution_count": 124,
   "metadata": {},
   "outputs": [
    {
     "name": "stdout",
     "output_type": "stream",
     "text": [
      "0        about me: i would love to think that i was som...\n",
      "1        i'm an australian living in san francisco, but...\n",
      "2        my names jake. i'm a creative guy and i look f...\n",
      "3        update: i'm seeing someone, so off the market ...\n",
      "4        i was born in wisconsin, grew up in iowa, and ...\n",
      "                               ...                        \n",
      "26112    vibrant, expressive, caring optimist. i love b...\n",
      "26113    i'm nick. i never know what to write about mys...\n",
      "26114    hello! i enjoy traveling, watching movies, and...\n",
      "26115    \"all i have in this world are my balls and my ...\n",
      "26116    is it odd that having a little \"enemy\" status ...\n",
      "Length: 26117, dtype: object\n"
     ]
    }
   ],
   "source": [
    "nlp_data = profiles[['essay0', 'essay1', 'essay2', 'essay3', 'essay4', 'essay5', 'essay6',\n",
    "                     'essay7', 'essay8', 'essay9', 'sign_cleaned']].dropna().reset_index()\n",
    "\n",
    "nlp_essays = nlp_data[['essay0', 'essay1', 'essay2', 'essay3', 'essay4', 'essay5', 'essay6',\n",
    "                     'essay7', 'essay8', 'essay9']].apply(lambda x: ', '.join(x.dropna().astype(str)), axis=1)\n",
    "\n",
    "corpus = nlp_essays.apply(lambda x: BeautifulSoup(x).get_text())\n",
    "corpus = corpus.replace(r'\\r+|\\n+|\\t+',' ', regex=True)\n",
    "\n",
    "labels = nlp_data[['sign_cleaned']]\n",
    "\n",
    "print(corpus)"
   ]
  },
  {
   "cell_type": "markdown",
   "metadata": {},
   "source": [
    "In this first step I cleaned all of the essays: I removed all line breaks (/n) as well as removed all html tags that were in the text."
   ]
  },
  {
   "cell_type": "code",
   "execution_count": 125,
   "metadata": {},
   "outputs": [
    {
     "name": "stderr",
     "output_type": "stream",
     "text": [
      "/Users/mac/opt/anaconda3/lib/python3.9/site-packages/sklearn/utils/validation.py:63: DataConversionWarning: A column-vector y was passed when a 1d array was expected. Please change the shape of y to (n_samples, ), for example using ravel().\n",
      "  return f(*args, **kwargs)\n"
     ]
    },
    {
     "name": "stdout",
     "output_type": "stream",
     "text": [
      "0.08330781010719755\n"
     ]
    }
   ],
   "source": [
    "X_train, X_test, y_train, y_test = train_test_split(corpus, labels, random_state=3)\n",
    "\n",
    "from sklearn.feature_extraction.text import CountVectorizer\n",
    "counter = CountVectorizer()\n",
    "counter.fit(X_train)\n",
    "\n",
    "train_counts = counter.transform(X_train)\n",
    "test_counts = counter.transform(X_test)\n",
    "\n",
    "from sklearn.naive_bayes import MultinomialNB\n",
    "classifier = MultinomialNB()\n",
    "classifier.fit(train_counts, y_train)\n",
    "\n",
    "print(classifier.score(test_counts, y_test))"
   ]
  },
  {
   "cell_type": "markdown",
   "metadata": {},
   "source": [
    "The Naive Bayes classifier performs just as poorly as the Random Forest and Tree classifiers in the previous section."
   ]
  },
  {
   "cell_type": "code",
   "execution_count": 134,
   "metadata": {},
   "outputs": [
    {
     "name": "stdout",
     "output_type": "stream",
     "text": [
      "sign_cleaned\n",
      "leo             0.088410\n",
      "gemini          0.088027\n",
      "libra           0.087989\n",
      "cancer          0.086381\n",
      "virgo           0.085117\n",
      "taurus          0.083853\n",
      "scorpio         0.083394\n",
      "aries           0.083011\n",
      "sagittarius     0.081977\n",
      "pisces          0.079910\n",
      "aquarius        0.079488\n",
      "capricorn       0.072443\n",
      "dtype: float64\n"
     ]
    },
    {
     "data": {
      "image/png": "[encoded data removed]",
      "text/plain": [
       "<Figure size 432x288 with 2 Axes>"
      ]
     },
     "metadata": {
      "needs_background": "light"
     },
     "output_type": "display_data"
    },
    {
     "name": "stdout",
     "output_type": "stream",
     "text": [
      "              precision    recall  f1-score   support\n",
      "\n",
      "    aquarius       0.06      0.01      0.01       556\n",
      "       aries       0.08      0.04      0.05       561\n",
      "      cancer       0.08      0.13      0.10       546\n",
      "   capricorn       0.03      0.00      0.00       435\n",
      "      gemini       0.08      0.12      0.10       597\n",
      "         leo       0.09      0.19      0.12       576\n",
      "       libra       0.08      0.16      0.11       581\n",
      "      pisces       0.08      0.03      0.04       530\n",
      " sagittarius       0.09      0.04      0.06       524\n",
      "     scorpio       0.09      0.05      0.06       541\n",
      "      taurus       0.09      0.09      0.09       527\n",
      "       virgo       0.08      0.11      0.09       556\n",
      "\n",
      "    accuracy                           0.08      6530\n",
      "   macro avg       0.08      0.08      0.07      6530\n",
      "weighted avg       0.08      0.08      0.07      6530\n",
      "\n"
     ]
    }
   ],
   "source": [
    "predictions = classifier.predict(test_counts)\n",
    "\n",
    "print(labels.value_counts(normalize=True))\n",
    "\n",
    "matrix = confusion_matrix(y_test, predictions, normalize='true')\n",
    "\n",
    "tick_labels = ['aquarius', 'aries', 'cancer', 'capricorn', \n",
    "               'gemini', 'leo', 'libra', 'pisces', \n",
    "               'sagittarius', 'scorpio', 'taurus', 'virgo']\n",
    "\n",
    "ax = sns.heatmap(matrix)\n",
    "ax.xaxis.set_ticklabels(tick_labels)\n",
    "plt.xticks(rotation=90)\n",
    "ax.yaxis.set_ticklabels(tick_labels)\n",
    "plt.yticks(rotation=0)\n",
    "plt.show()\n",
    "\n",
    "print(classification_report(y_test, predictions))"
   ]
  },
  {
   "cell_type": "markdown",
   "metadata": {},
   "source": [
    "I've provided the proportion that each zodiac sign makes up in the training data. Each sign is fairly equally represented, with leo being somewhat overrepresented and capricorn being underrepresented.\n",
    "\n",
    "The confusion matrix is represented here as a heatmap. The columns represent the predictions made by the classifier, and the rows represent the true/target signs (y_test). The number of predictions made by the classifier have been normalized across each row. \n",
    "\n",
    "For instance, looking at the first row (aquarius row), the classifier most often classified aquarius as gemini, leo, or libra (light squares, meaning higher percentage of total guesses for aquarius samples in y_test), and was least likely to classify aquarius as aquarius, capricorn, pisces, or sagittarius (dark squares, meaning lower percentage of total guesses for aquarius samples in y_test). This observation makes sense given that leo, gemini, and libra are the most represented signs in the training data and aquarius, capricorn, pisces, and sagittarius are least represented. This model suffers from overfitting.\n",
    "\n",
    "It appears that the data in the essays isn't sufficient for a Naive Bayes classifier to classify zodiac signs."
   ]
  },
  {
   "cell_type": "markdown",
   "metadata": {},
   "source": [
    "# Conclusions:\n",
    "\n",
    "1. Gained practice with examining and cleaning datasets: including practice with NLP and handling missing values.\n",
    "2. Familiarized myself with and practiced using SciKit Learn's machine learning modules. Also practiced evaluating models using SciKit Learn's classification report and confusion matrix.\n",
    "3. Random Forest and Decision Tree classifiers were NOT able to predict the zodiac sign of profiles based on question responses. The classifiers remained unsuccessful even when trying to predict just the element of a sign rather than the sign itself.\n",
    "3. Naive Bayes classifier was NOT able to predict zodiac sign based on profile essays.\n",
    "\n",
    "### Future Directions:\n",
    "Based on the unsuccessful results presented here, it would be interesting to further explore if it's possible to predict an individual's zodiac sign from personality data. Given the extremely poor performance of the classifiers used in this paper, it appears there is little to no association between dating profile information and zodiac signs."
   ]
  }
 ],
 "metadata": {
  "kernelspec": {
   "display_name": "Python 3 (ipykernel)",
   "language": "python",
   "name": "python3"
  },
  "language_info": {
   "codemirror_mode": {
    "name": "ipython",
    "version": 3
   },
   "file_extension": ".py",
   "mimetype": "text/x-python",
   "name": "python",
   "nbconvert_exporter": "python",
   "pygments_lexer": "ipython3",
   "version": "3.9.7"
  }
 },
 "nbformat": 4,
 "nbformat_minor": 4
}
